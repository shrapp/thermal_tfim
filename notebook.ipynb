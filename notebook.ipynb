{
 "cells": [
  {
   "cell_type": "code",
   "execution_count": 12,
   "metadata": {},
   "outputs": [],
   "source": [
    "import pandas as pd\n",
    "import numpy as np\n",
    "import ast\n",
    "\n",
    "def convert_to_floats(value):\n",
    "    if value[:2] == '[[':\n",
    "        nested_list = ast.literal_eval(value)\n",
    "        return [item[0] for item in nested_list]\n",
    "    return value  # Return the original value if not a string\n",
    "\n",
    "def printer(value):\n",
    "    if value[:2] == '[[':\n",
    "        print(value)\n",
    "        print()\n",
    "    return value\n",
    "\n",
    "\n",
    "df = pd.read_csv('data.csv')\n",
    "\n",
    "\n",
    "df['probability'] = df['probability'].apply(convert_to_floats)\n",
    "\n",
    "df.to_csv('data.csv', index=False)"
   ]
  },
  {
   "cell_type": "code",
   "execution_count": null,
   "metadata": {},
   "outputs": [],
   "source": [
    "try:\n",
    "    df = pd.read_csv('data.csv')\n",
    "    df = df.sort_values(['N', 'tau', 'noise'])\n",
    "except FileNotFoundError:\n",
    "    df = pd.DataFrame(columns=['N', 'tau', 'type', 'noise','probability', 'mean', \n",
    "                            'second_moment', 'third_moment', 'fourth_moment',\n",
    "                            'variance', 'skewness', 'kurtosis'])\n",
    "\n",
    "# Check if data[N][tau][w] is in DataFrame\n",
    "if (not df.empty) and (not df[(df['N'] == N) & (df['tau'] == tau) & (df['noise'] == w)].empty):\n",
    "    spesific_df = df[(df['N'] == N) & (df['tau'] == tau) & (df['noise'] == w)]\n",
    "    ks = k_f(np.arange(0, N/2), N)\n",
    "    d_vals = np.arange(0,N+1,2)\n",
    "    if spesific_df[spesific_df['type'] == 'pk'].empty:\n",
    "        pks_numeric = calk_noisy_pk(ks, tau, w)\n",
    "        pk_data_df = pd.DataFrame({'probability': [pks_numeric.tolist()], 'N': [N], 'tau': [tau], 'type': ['pk'], 'noise': [w]})\n",
    "        with lock:\n",
    "            df = pd.concat([df, pk_data_df])\n",
    "            df.to_csv('data.csv', index=False)\n",
    "    else: \n",
    "        pks_numeric = np.array(spesific_df[spesific_df['type'] == 'pk']['probability'].values[0])\n",
    "    \n",
    "    if spesific_df[spesific_df['type'] == 'numeric'].empty:\n",
    "        num_probability_mass_function = calc_kink_probabilities(pks_numeric, d_vals)\n",
    "        num_probability_mass_function = np.where(num_probability_mass_function < epsilon, 0, num_probability_mass_function)\n",
    "        num_mask = (np.roll(num_probability_mass_function, 0) == 0) & (np.roll(num_probability_mass_function, -2) == 0)\n",
    "        num_mask[-1] = False\n",
    "        num_mask[-2] = False\n",
    "        num_probability_mass_function[np.roll(num_mask, 1)] = 0\n",
    "        num_cumulants = calculate_cumulants(num_probability_mass_function, d_vals)\n",
    "        with lock:\n",
    "            num_data_df = pd.DataFrame({**num_cumulants, 'probability': [num_probability_mass_function.tolist()], 'N': [N], 'tau': [tau], 'type': ['numeric'], 'noise': [w]})\n",
    "            df = pd.concat([df, num_data_df])\n",
    "            df.to_csv('data.csv', index=False)\n",
    "    else:\n",
    "        num_probability_mass_function = np.array(spesific_df[spesific_df['type'] == 'numeric']['probability'].values[0])\n",
    "        \n",
    "    if spesific_df[spesific_df['type'] == 'thermal'].empty:\n",
    "        d_num = D_func(num_probability_mass_function)\n",
    "        therm_probability_mass_function = thermal_prob(d_num, N)\n",
    "        therm_probability_mass_function = np.where(therm_probability_mass_function < epsilon, 0, therm_probability_mass_function)\n",
    "        therm_mask = (np.roll(therm_probability_mass_function, 0) == 0) & (np.roll(therm_probability_mass_function, -2) == 0)\n",
    "        therm_mask[-1] = False\n",
    "        therm_mask[-2] = False\n",
    "        therm_probability_mass_function[np.roll(therm_mask, 1)] = 0\n",
    "        therm_cumulants = calculate_cumulants(therm_probability_mass_function, d_vals)\n",
    "        with lock:\n",
    "            therm_data_df = pd.DataFrame({**therm_cumulants, 'probability': [therm_probability_mass_function.tolist()], 'N': [N], 'tau': [tau], 'type': ['thermal'], 'noise': [w]})\n",
    "            df = pd.concat([df, therm_data_df])\n",
    "            df.to_csv('data.csv', index=False)"
   ]
  }
 ],
 "metadata": {
  "kernelspec": {
   "display_name": "Python 3.9.13 64-bit",
   "language": "python",
   "name": "python3"
  },
  "language_info": {
   "codemirror_mode": {
    "name": "ipython",
    "version": 3
   },
   "file_extension": ".py",
   "mimetype": "text/x-python",
   "name": "python",
   "nbconvert_exporter": "python",
   "pygments_lexer": "ipython3",
   "version": "3.9.13"
  },
  "orig_nbformat": 4,
  "vscode": {
   "interpreter": {
    "hash": "11938c6bc6919ae2720b4d5011047913343b08a43b18698fd82dedb0d4417594"
   }
  }
 },
 "nbformat": 4,
 "nbformat_minor": 2
}
